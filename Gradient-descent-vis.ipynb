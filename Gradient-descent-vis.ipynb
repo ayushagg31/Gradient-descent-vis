{
 "cells": [
  {
   "cell_type": "code",
   "execution_count": 10,
   "metadata": {},
   "outputs": [],
   "source": [
    "import pandas as pd\n",
    "import numpy as np\n",
    "import random\n",
    "import warnings\n",
    "warnings.filterwarnings('ignore')"
   ]
  },
  {
   "cell_type": "code",
   "execution_count": 3,
   "metadata": {},
   "outputs": [],
   "source": [
    "import sys"
   ]
  },
  {
   "cell_type": "code",
   "execution_count": 4,
   "metadata": {},
   "outputs": [
    {
     "name": "stdout",
     "output_type": "stream",
     "text": [
      "Requirement already satisfied: mnist in c:\\programdata\\anaconda3\\lib\\site-packages (0.2.2)\n",
      "Requirement already satisfied: numpy in c:\\programdata\\anaconda3\\lib\\site-packages (from mnist) (1.16.5)\n"
     ]
    }
   ],
   "source": [
    "!{sys.executable} -m pip install mnist"
   ]
  },
  {
   "cell_type": "code",
   "execution_count": 5,
   "metadata": {},
   "outputs": [],
   "source": [
    "import mnist\n",
    "\n",
    "train_images = mnist.train_images()\n",
    "train_labels = mnist.train_labels()\n",
    "\n",
    "test_images = mnist.test_images()\n",
    "test_labels = mnist.test_labels()"
   ]
  },
  {
   "cell_type": "code",
   "execution_count": 7,
   "metadata": {},
   "outputs": [],
   "source": [
    "train_images = mnist.train_images()\n",
    "x = train_images.reshape((train_images.shape[0], train_images.shape[1] * train_images.shape[2]))"
   ]
  },
  {
   "cell_type": "code",
   "execution_count": 9,
   "metadata": {},
   "outputs": [
    {
     "data": {
      "text/plain": [
       "(60000, 784)"
      ]
     },
     "execution_count": 9,
     "metadata": {},
     "output_type": "execute_result"
    }
   ],
   "source": [
    "x.shape"
   ]
  },
  {
   "cell_type": "code",
   "execution_count": 39,
   "metadata": {},
   "outputs": [],
   "source": [
    "# Let's start the deep learning implementation from here on\n",
    "\n",
    "# some initializations\n",
    "# input - [neurons in 1st layer, 2nd layer, third layer]\n",
    "def network_initialize(sizes):\n",
    "    num_layers = len(sizes)\n",
    "    sizes = sizes\n",
    "    # 1st layer does not require biases\n",
    "    biases = [np.random.randn(i,1) for i in sizes[1:]]\n",
    "    # weights dimensions are = num_of_neurons in next layer * num_of_neurons in curr layer (j*i) = >Wji\n",
    "    weights = [np.random.randn(j,i) for i,j in zip(sizes[:-1], sizes[1:])]\n",
    "    \n",
    "    return num_layers, sizes, biases, weights\n",
    "    "
   ]
  },
  {
   "cell_type": "code",
   "execution_count": 40,
   "metadata": {},
   "outputs": [],
   "source": [
    "# sigmoidal activation function\n",
    "def sigmoid(z):\n",
    "    #1/1+e(-x)\n",
    "    return 1.0/(1.0+np.exp(-z))\n",
    "    "
   ]
  },
  {
   "cell_type": "code",
   "execution_count": 41,
   "metadata": {},
   "outputs": [],
   "source": [
    "def feedforward(a):\n",
    "    # this will return output after applying the activation function\n",
    "    # a = sigma(z)\n",
    "    # z = w*a + b\n",
    "    # a = input_neurons\n",
    "    for b, w in zip(biases, weights):\n",
    "        a = sigmoid(np.dot(w,a)+b)\n",
    "    return a"
   ]
  },
  {
   "cell_type": "code",
   "execution_count": 42,
   "metadata": {},
   "outputs": [],
   "source": [
    "def SGD(training_data, epochs, mini_batch_size, l_rate):\n",
    "    # which is 60k in this case\n",
    "    n = len(training_data)\n",
    "    for i in range(epochs):\n",
    "        random.shuffle(training_data)\n",
    "        mini_batches = []\n",
    "        for k in range(0, n, mini_batch_size):\n",
    "            mini_batches.append(training_data[k:k+mini_batch_size])\n",
    "            \n",
    "            for mini_batch in mini_batches:\n",
    "                update_mini_batch(mini_batch, l_rate)    "
   ]
  },
  {
   "cell_type": "code",
   "execution_count": null,
   "metadata": {},
   "outputs": [],
   "source": [
    "def update_mini_batch(mini_batch, l_rate):\n",
    "    "
   ]
  }
 ],
 "metadata": {
  "kernelspec": {
   "display_name": "Python 3",
   "language": "python",
   "name": "python3"
  },
  "language_info": {
   "codemirror_mode": {
    "name": "ipython",
    "version": 3
   },
   "file_extension": ".py",
   "mimetype": "text/x-python",
   "name": "python",
   "nbconvert_exporter": "python",
   "pygments_lexer": "ipython3",
   "version": "3.7.4"
  }
 },
 "nbformat": 4,
 "nbformat_minor": 2
}
